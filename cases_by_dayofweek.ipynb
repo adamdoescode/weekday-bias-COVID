{
 "cells": [
  {
   "cell_type": "code",
   "execution_count": 1,
   "metadata": {},
   "outputs": [
    {
     "output_type": "execute_result",
     "data": {
      "text/plain": "           # of days  total cases  mean cases\nsaturday          25         1603        64.1\nsunday            24         1177        49.0\nmonday            24         1188        49.5\ntuesday           24         1382        57.6\nwednesday         24         1367        57.0\nthursday          24         1382        57.6\nfriday            24         1504        62.7",
      "text/html": "<div>\n<style scoped>\n    .dataframe tbody tr th:only-of-type {\n        vertical-align: middle;\n    }\n\n    .dataframe tbody tr th {\n        vertical-align: top;\n    }\n\n    .dataframe thead th {\n        text-align: right;\n    }\n</style>\n<table border=\"1\" class=\"dataframe\">\n  <thead>\n    <tr style=\"text-align: right;\">\n      <th></th>\n      <th># of days</th>\n      <th>total cases</th>\n      <th>mean cases</th>\n    </tr>\n  </thead>\n  <tbody>\n    <tr>\n      <th>saturday</th>\n      <td>25</td>\n      <td>1603</td>\n      <td>64.1</td>\n    </tr>\n    <tr>\n      <th>sunday</th>\n      <td>24</td>\n      <td>1177</td>\n      <td>49.0</td>\n    </tr>\n    <tr>\n      <th>monday</th>\n      <td>24</td>\n      <td>1188</td>\n      <td>49.5</td>\n    </tr>\n    <tr>\n      <th>tuesday</th>\n      <td>24</td>\n      <td>1382</td>\n      <td>57.6</td>\n    </tr>\n    <tr>\n      <th>wednesday</th>\n      <td>24</td>\n      <td>1367</td>\n      <td>57.0</td>\n    </tr>\n    <tr>\n      <th>thursday</th>\n      <td>24</td>\n      <td>1382</td>\n      <td>57.6</td>\n    </tr>\n    <tr>\n      <th>friday</th>\n      <td>24</td>\n      <td>1504</td>\n      <td>62.7</td>\n    </tr>\n  </tbody>\n</table>\n</div>"
     },
     "metadata": {},
     "execution_count": 1
    }
   ],
   "source": [
    "import numpy as np\n",
    "import pandas as pd\n",
    "import matplotlib.pyplot as plt\n",
    "import itertools\n",
    "from collections import Counter\n",
    "# reads in data, sourced from: https://www.covid19data.com.au/data-notes\n",
    "df = pd.read_csv(\"cases_daily_aus.csv\", )\n",
    "#adds day column to data table assuming first day, 25 Jan is a Saturday\n",
    "df.loc[:,\"day\"] = pd.Series(dict(\n",
    "    zip([x for x in range(0,169)],\n",
    "        ['saturday','sunday','monday','tuesday','wednesday','thursday','friday']*100)))\n",
    "#build table of statistics with convoluted calls to pd.groupby(), sorry!\n",
    "dayofweek_df = pd.DataFrame(pd.Series(Counter(df.day)))\n",
    "dayofweek_df.columns = [\"# of days\"]\n",
    "dayofweek_df.loc[:, \"total cases\"] = pd.Series(df.groupby(\"day\").sum().to_dict()['new.cases'])\n",
    "dayofweek_df.loc[:,\"mean cases\"] = pd.Series(df.groupby(\"day\").mean().to_dict()['new.cases'])\n",
    "#output\n",
    "dayofweek_df.round(1)"
   ]
  },
  {
   "cell_type": "code",
   "execution_count": 11,
   "metadata": {},
   "outputs": [
    {
     "output_type": "execute_result",
     "data": {
      "text/plain": "       Date  new.cases        day\n0    25-Jan          4   saturday\n1    26-Jan          0     sunday\n2    27-Jan          1     monday\n3    28-Jan          0    tuesday\n4    29-Jan          4  wednesday\n..      ...        ...        ...\n164   7-Jul        199    tuesday\n165   8-Jul        147  wednesday\n166   9-Jul        182   thursday\n167  10-Jul        307     friday\n168  11-Jul        227   saturday\n\n[169 rows x 3 columns]",
      "text/html": "<div>\n<style scoped>\n    .dataframe tbody tr th:only-of-type {\n        vertical-align: middle;\n    }\n\n    .dataframe tbody tr th {\n        vertical-align: top;\n    }\n\n    .dataframe thead th {\n        text-align: right;\n    }\n</style>\n<table border=\"1\" class=\"dataframe\">\n  <thead>\n    <tr style=\"text-align: right;\">\n      <th></th>\n      <th>Date</th>\n      <th>new.cases</th>\n      <th>day</th>\n    </tr>\n  </thead>\n  <tbody>\n    <tr>\n      <th>0</th>\n      <td>25-Jan</td>\n      <td>4</td>\n      <td>saturday</td>\n    </tr>\n    <tr>\n      <th>1</th>\n      <td>26-Jan</td>\n      <td>0</td>\n      <td>sunday</td>\n    </tr>\n    <tr>\n      <th>2</th>\n      <td>27-Jan</td>\n      <td>1</td>\n      <td>monday</td>\n    </tr>\n    <tr>\n      <th>3</th>\n      <td>28-Jan</td>\n      <td>0</td>\n      <td>tuesday</td>\n    </tr>\n    <tr>\n      <th>4</th>\n      <td>29-Jan</td>\n      <td>4</td>\n      <td>wednesday</td>\n    </tr>\n    <tr>\n      <th>...</th>\n      <td>...</td>\n      <td>...</td>\n      <td>...</td>\n    </tr>\n    <tr>\n      <th>164</th>\n      <td>7-Jul</td>\n      <td>199</td>\n      <td>tuesday</td>\n    </tr>\n    <tr>\n      <th>165</th>\n      <td>8-Jul</td>\n      <td>147</td>\n      <td>wednesday</td>\n    </tr>\n    <tr>\n      <th>166</th>\n      <td>9-Jul</td>\n      <td>182</td>\n      <td>thursday</td>\n    </tr>\n    <tr>\n      <th>167</th>\n      <td>10-Jul</td>\n      <td>307</td>\n      <td>friday</td>\n    </tr>\n    <tr>\n      <th>168</th>\n      <td>11-Jul</td>\n      <td>227</td>\n      <td>saturday</td>\n    </tr>\n  </tbody>\n</table>\n<p>169 rows × 3 columns</p>\n</div>"
     },
     "metadata": {},
     "execution_count": 11
    }
   ],
   "source": [
    "df"
   ]
  },
  {
   "cell_type": "code",
   "execution_count": null,
   "metadata": {},
   "outputs": [],
   "source": []
  }
 ],
 "metadata": {
  "kernelspec": {
   "display_name": "Python 3",
   "language": "python",
   "name": "python3"
  },
  "language_info": {
   "codemirror_mode": {
    "name": "ipython",
    "version": 3
   },
   "file_extension": ".py",
   "mimetype": "text/x-python",
   "name": "python",
   "nbconvert_exporter": "python",
   "pygments_lexer": "ipython3",
   "version": "3.6.10"
  }
 },
 "nbformat": 4,
 "nbformat_minor": 4
}